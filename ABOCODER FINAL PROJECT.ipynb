{
 "cells": [
  {
   "cell_type": "markdown",
   "id": "d8b26ffc",
   "metadata": {},
   "source": [
    "# BREAST CANCER SURVIVAL PREDICTION"
   ]
  },
  {
   "cell_type": "markdown",
   "id": "4127cc50",
   "metadata": {},
   "source": [
    
   ]
  },
  {
   "cell_type": "markdown",
   "id": "b4e44c81",
   "metadata": {},
   "source": [
    "This dataset consists of a group of breast cancer patients, who had surgery to remove their tumour. Breast cancer is a disease in which cells in the breast grow out of control. Breast cancer is one of the most common cancers among women, and early detection plays a vital role in improving the chances of survival. Detecting breast cancer at an early stage can increase the treatment options available and improve the chances of successful recovery. Breast cancer detection and prediction refer to the use of various medical technologies, such as imaging tests, blood tests, and genetic testing, to diagnose and predict the likelihood of developing breast cancer.\n",
    "\n",
    "Machine learning and artificial intelligence (AI) techniques are increasingly being used in breast cancer detection and prediction. These technologies can analyze large amounts of patient data and identify patterns that may indicate the presence of cancer. They can also help predict the risk of developing breast cancer based on a patient's medical history and genetics. The goal is to provide more targeted and personalized care to patients, leading to better outcomes and improved quality of life."
   ]
  },
  {
   "cell_type": "markdown",
   "id": "85551068",
   "metadata": {},
   "source": [
    "Breast cancer is the most commonly diagnosed cancer among women worldwide, and early detection is crucial for improving survival rates. However, current breast cancer detection and prediction methods have limitations in terms of accuracy, sensitivity, and specificity. There is a need for more effective and accurate tools to detect and predict the likelihood of developing breast cancer.\n",
    "\n",
    "Machine learning and AI techniques have shown promise in improving breast cancer detection and prediction. However, there are still challenges in developing accurate predictive models that can be used in clinical settings. These models must be able to analyze complex patient data, including medical history, genetic information, and imaging data, to provide reliable predictions of breast cancer development and progression.\n",
    "\n",
    "Moreover, breast cancer detection and prediction must be accessible to all women, regardless of their socioeconomic status or geographic location. It is essential to develop tools and technologies that are affordable, easily accessible, and widely available to help identify breast cancer early and improve patient outcomes. Thus, the aim of this project is to develop accurate, accessible, and affordable techniques using machine learning and AI, which can improve early detection rates and reduce breast cancer morbidity and mortality worldwide."
   ]
  },
  {
   "cell_type": "markdown",
   "id": "8783cc14",
   "metadata": {},
   "source": [
    "HER2 (human epidermal growth factor receptor 2) is a protein that plays a significant role in the development and growth of breast cells. In breast cancer, HER2 refers to an overexpression or amplification of the HER2/neu gene, which leads to an excess production of the HER2 protein. This overexpression occurs in approximately 20-25% of breast cancer cases.\n",
    "\n",
    "HER2-positive breast cancer is known to be more aggressive and fast-growing compared to HER2-negative breast cancer. It is associated with a higher risk of recurrence and poorer prognosis if left untreated. However, HER2-positive breast cancer can be effectively targeted with specific treatments that block the activity of the HER2 protein"
   ]
  },
  {
   "cell_type": "markdown",
   "id": "e06e868b",
   "metadata": {},
   "source": [
    "ER status in breast cancer refers to the estrogen receptor status of the tumor cells. Estrogen receptors are proteins that are present on the surface of breast cells and play a crucial role in the growth and development of breast tissue.\n",
    "\n",
    "In breast cancer, the ER status indicates whether the tumor cells have receptors that can bind to estrogen. ER-positive breast cancer means that the tumor cells have estrogen receptors, while ER-negative breast cancer means that the tumor cells lack estrogen receptors."
   ]
  },
  {
   "cell_type": "markdown",
   "id": "4e06f7b7",
   "metadata": {},
   "source": [
    "PR status in breast cancer refers to the progesterone receptor status of the tumor cells. Progesterone receptors, like estrogen receptors (ER), are proteins present on the surface of breast cells. They play a role in the growth and development of breast tissue in response to progesterone, a female hormone."
   ]
  },
  {
   "cell_type": "markdown",
   "id": "c0f6dbf5",
   "metadata": {},
   "source": [
    "Histology in breast cancer refers to the examination and analysis of the tissue samples from a breast tumor under a microscope. It involves the study of the cellular characteristics, structure, and organization of the tumor cells, as well as the surrounding breast tissue.\n",
    "\n",
    "Histological examination plays a crucial role in diagnosing breast cancer and determining its specific type. The most common types of breast cancer based on histology include:\n",
    "\n",
    "Ductal carcinoma: Ductal carcinoma is the most common type of breast cancer. It originates in the cells lining the milk ducts of the breast. Ductal carcinoma can be further classified into different subtypes, such as invasive ductal carcinoma (IDC) and ductal carcinoma in situ (DCIS).\n",
    "\n",
    "Lobular carcinoma: Lobular carcinoma originates in the lobules, which are the milk-producing glands of the breast. Lobular carcinoma can also be invasive or in situ (LCIS).\n",
    "\n",
    "Medullary carcinoma: Medullary carcinoma is a less common type of breast cancer. It is characterized by distinct boundaries between the tumor and the surrounding breast tissue and often has a lymphocyte-rich appearance.\n",
    "\n",
    "Mucinous carcinoma: Mucinous (or colloid) carcinoma is characterized by the presence of mucin, a slimy substance, within the tumor. It usually has a better prognosis compared to other types of breast cancer.\n",
    "\n",
    "Tubular carcinoma: Tubular carcinoma is a subtype of invasive ductal carcinoma characterized by small tubular structures within the tumor. It tends to have a good prognosis.\n",
    "\n",
    "Papillary carcinoma: Papillary carcinoma is characterized by finger-like projections within the tumor. It is less common and generally has a favorable prognosis.\n",
    "\n",
    "Histological examination also helps determine important factors such as tumor grade, which indicates the level of abnormality and aggressiveness of the tumor cells, and the presence of specific biomarkers such as hormone receptors (ER and PR) and HER2 status. These factors play a significant role in determining treatment options and predicting the prognosis of breast cancer.\n",
    "\n",
    "In addition to histology, other diagnostic techniques, such as imaging studies (mammography, ultrasound, MRI) and molecular tests, are often used together to provide a comprehensive evaluation of breast cancer and guide treatment decisions."
   ]
  },
  {
   "cell_type": "markdown",
   "id": "d65d3fd7",
   "metadata": {},
   "source": [
    "## Importing Libraries "
   ]
  },
  {
   "cell_type": "code",
   "execution_count": 1,
   "id": "ccac0095",
   "metadata": {},
   "outputs": [],
   "source": [
    "import warnings\n",
    "warnings.filterwarnings(\"ignore\")\n",
    "import numpy as np #import libraries \n",
    "import pandas as pd\n",
    "import matplotlib.pyplot as plt\n",
    "%matplotlib inline\n",
    "import seaborn as sns"
   ]
  },
  {
   "cell_type": "code",
   "execution_count": 2,
   "id": "f6c8fb30",
   "metadata": {},
   "outputs": [],
   "source": [
    "breast_cancer = pd.read_csv('BRCA.csv')"
   ]
  },
  {
   "cell_type": "markdown",
   "id": "e83e8198",
   "metadata": {},
   "source": [
    "### Having a view of the datasets"
   ]
  },
  {
   "cell_type": "code",
   "execution_count": 3,
   "id": "189cf252",
   "metadata": {},
   "outputs": [
    {
     "data": {
      "text/html": [
       "<div>\n",
       "<style scoped>\n",
       "    .dataframe tbody tr th:only-of-type {\n",
       "        vertical-align: middle;\n",
       "    }\n",
       "\n",
       "    .dataframe tbody tr th {\n",
       "        vertical-align: top;\n",
       "    }\n",
       "\n",
       "    .dataframe thead th {\n",
       "        text-align: right;\n",
       "    }\n",
       "</style>\n",
       "<table border=\"1\" class=\"dataframe\">\n",
       "  <thead>\n",
       "    <tr style=\"text-align: right;\">\n",
       "      <th></th>\n",
       "      <th>Patient_ID</th>\n",
       "      <th>Age</th>\n",
       "      <th>Gender</th>\n",
       "      <th>Protein1</th>\n",
       "      <th>Protein2</th>\n",
       "      <th>Protein3</th>\n",
       "      <th>Protein4</th>\n",
       "      <th>Tumour_Stage</th>\n",
       "      <th>Histology</th>\n",
       "      <th>ER status</th>\n",
       "      <th>PR status</th>\n",
       "      <th>HER2 status</th>\n",
       "      <th>Surgery_type</th>\n",
       "      <th>Date_of_Surgery</th>\n",
       "      <th>Date_of_Last_Visit</th>\n",
       "      <th>Patient_Status</th>\n",
       "    </tr>\n",
       "  </thead>\n",
       "  <tbody>\n",
       "    <tr>\n",
       "      <th>0</th>\n",
       "      <td>TCGA-D8-A1XD</td>\n",
       "      <td>36.0</td>\n",
       "      <td>FEMALE</td>\n",
       "      <td>0.080353</td>\n",
       "      <td>0.42638</td>\n",
       "      <td>0.54715</td>\n",
       "      <td>0.273680</td>\n",
       "      <td>III</td>\n",
       "      <td>Infiltrating Ductal Carcinoma</td>\n",
       "      <td>Positive</td>\n",
       "      <td>Positive</td>\n",
       "      <td>Negative</td>\n",
       "      <td>Modified Radical Mastectomy</td>\n",
       "      <td>15-Jan-17</td>\n",
       "      <td>19-Jun-17</td>\n",
       "      <td>Alive</td>\n",
       "    </tr>\n",
       "    <tr>\n",
       "      <th>1</th>\n",
       "      <td>TCGA-EW-A1OX</td>\n",
       "      <td>43.0</td>\n",
       "      <td>FEMALE</td>\n",
       "      <td>-0.420320</td>\n",
       "      <td>0.57807</td>\n",
       "      <td>0.61447</td>\n",
       "      <td>-0.031505</td>\n",
       "      <td>II</td>\n",
       "      <td>Mucinous Carcinoma</td>\n",
       "      <td>Positive</td>\n",
       "      <td>Positive</td>\n",
       "      <td>Negative</td>\n",
       "      <td>Lumpectomy</td>\n",
       "      <td>26-Apr-17</td>\n",
       "      <td>09-Nov-18</td>\n",
       "      <td>Dead</td>\n",
       "    </tr>\n",
       "    <tr>\n",
       "      <th>2</th>\n",
       "      <td>TCGA-A8-A079</td>\n",
       "      <td>69.0</td>\n",
       "      <td>FEMALE</td>\n",
       "      <td>0.213980</td>\n",
       "      <td>1.31140</td>\n",
       "      <td>-0.32747</td>\n",
       "      <td>-0.234260</td>\n",
       "      <td>III</td>\n",
       "      <td>Infiltrating Ductal Carcinoma</td>\n",
       "      <td>Positive</td>\n",
       "      <td>Positive</td>\n",
       "      <td>Negative</td>\n",
       "      <td>Other</td>\n",
       "      <td>08-Sep-17</td>\n",
       "      <td>09-Jun-18</td>\n",
       "      <td>Alive</td>\n",
       "    </tr>\n",
       "    <tr>\n",
       "      <th>3</th>\n",
       "      <td>TCGA-D8-A1XR</td>\n",
       "      <td>56.0</td>\n",
       "      <td>FEMALE</td>\n",
       "      <td>0.345090</td>\n",
       "      <td>-0.21147</td>\n",
       "      <td>-0.19304</td>\n",
       "      <td>0.124270</td>\n",
       "      <td>II</td>\n",
       "      <td>Infiltrating Ductal Carcinoma</td>\n",
       "      <td>Positive</td>\n",
       "      <td>Positive</td>\n",
       "      <td>Negative</td>\n",
       "      <td>Modified Radical Mastectomy</td>\n",
       "      <td>25-Jan-17</td>\n",
       "      <td>12-Jul-17</td>\n",
       "      <td>Alive</td>\n",
       "    </tr>\n",
       "    <tr>\n",
       "      <th>4</th>\n",
       "      <td>TCGA-BH-A0BF</td>\n",
       "      <td>56.0</td>\n",
       "      <td>FEMALE</td>\n",
       "      <td>0.221550</td>\n",
       "      <td>1.90680</td>\n",
       "      <td>0.52045</td>\n",
       "      <td>-0.311990</td>\n",
       "      <td>II</td>\n",
       "      <td>Infiltrating Ductal Carcinoma</td>\n",
       "      <td>Positive</td>\n",
       "      <td>Positive</td>\n",
       "      <td>Negative</td>\n",
       "      <td>Other</td>\n",
       "      <td>06-May-17</td>\n",
       "      <td>27-Jun-19</td>\n",
       "      <td>Dead</td>\n",
       "    </tr>\n",
       "  </tbody>\n",
       "</table>\n",
       "</div>"
      ],
      "text/plain": [
       "     Patient_ID   Age  Gender  Protein1  Protein2  Protein3  Protein4  \\\n",
       "0  TCGA-D8-A1XD  36.0  FEMALE  0.080353   0.42638   0.54715  0.273680   \n",
       "1  TCGA-EW-A1OX  43.0  FEMALE -0.420320   0.57807   0.61447 -0.031505   \n",
       "2  TCGA-A8-A079  69.0  FEMALE  0.213980   1.31140  -0.32747 -0.234260   \n",
       "3  TCGA-D8-A1XR  56.0  FEMALE  0.345090  -0.21147  -0.19304  0.124270   \n",
       "4  TCGA-BH-A0BF  56.0  FEMALE  0.221550   1.90680   0.52045 -0.311990   \n",
       "\n",
       "  Tumour_Stage                      Histology ER status PR status HER2 status  \\\n",
       "0          III  Infiltrating Ductal Carcinoma  Positive  Positive    Negative   \n",
       "1           II             Mucinous Carcinoma  Positive  Positive    Negative   \n",
       "2          III  Infiltrating Ductal Carcinoma  Positive  Positive    Negative   \n",
       "3           II  Infiltrating Ductal Carcinoma  Positive  Positive    Negative   \n",
       "4           II  Infiltrating Ductal Carcinoma  Positive  Positive    Negative   \n",
       "\n",
       "                  Surgery_type Date_of_Surgery Date_of_Last_Visit  \\\n",
       "0  Modified Radical Mastectomy       15-Jan-17          19-Jun-17   \n",
       "1                   Lumpectomy       26-Apr-17          09-Nov-18   \n",
       "2                        Other       08-Sep-17          09-Jun-18   \n",
       "3  Modified Radical Mastectomy       25-Jan-17          12-Jul-17   \n",
       "4                        Other       06-May-17          27-Jun-19   \n",
       "\n",
       "  Patient_Status  \n",
       "0          Alive  \n",
       "1           Dead  \n",
       "2          Alive  \n",
       "3          Alive  \n",
       "4           Dead  "
      ]
     },
     "execution_count": 3,
     "metadata": {},
     "output_type": "execute_result"
    }
   ],
   "source": [
    "breast_cancer.head()"
   ]
  },
  {
   "cell_type": "code",
   "execution_count": 4,
   "id": "af9c5d28",
   "metadata": {},
   "outputs": [
    {
     "name": "stdout",
     "output_type": "stream",
     "text": [
      "<class 'pandas.core.frame.DataFrame'>\n",
      "RangeIndex: 341 entries, 0 to 340\n",
      "Data columns (total 16 columns):\n",
      " #   Column              Non-Null Count  Dtype  \n",
      "---  ------              --------------  -----  \n",
      " 0   Patient_ID          334 non-null    object \n",
      " 1   Age                 334 non-null    float64\n",
      " 2   Gender              334 non-null    object \n",
      " 3   Protein1            334 non-null    float64\n",
      " 4   Protein2            334 non-null    float64\n",
      " 5   Protein3            334 non-null    float64\n",
      " 6   Protein4            334 non-null    float64\n",
      " 7   Tumour_Stage        334 non-null    object \n",
      " 8   Histology           334 non-null    object \n",
      " 9   ER status           334 non-null    object \n",
      " 10  PR status           334 non-null    object \n",
      " 11  HER2 status         334 non-null    object \n",
      " 12  Surgery_type        334 non-null    object \n",
      " 13  Date_of_Surgery     334 non-null    object \n",
      " 14  Date_of_Last_Visit  317 non-null    object \n",
      " 15  Patient_Status      321 non-null    object \n",
      "dtypes: float64(5), object(11)\n",
      "memory usage: 42.8+ KB\n"
     ]
    }
   ],
   "source": [
    "breast_cancer.info()"
   ]
  },
  {
   "cell_type": "code",
   "execution_count": 5,
   "id": "19cbc0a7",
   "metadata": {},
   "outputs": [
    {
     "data": {
      "text/html": [
       "<div>\n",
       "<style scoped>\n",
       "    .dataframe tbody tr th:only-of-type {\n",
       "        vertical-align: middle;\n",
       "    }\n",
       "\n",
       "    .dataframe tbody tr th {\n",
       "        vertical-align: top;\n",
       "    }\n",
       "\n",
       "    .dataframe thead th {\n",
       "        text-align: right;\n",
       "    }\n",
       "</style>\n",
       "<table border=\"1\" class=\"dataframe\">\n",
       "  <thead>\n",
       "    <tr style=\"text-align: right;\">\n",
       "      <th></th>\n",
       "      <th>Age</th>\n",
       "      <th>Protein1</th>\n",
       "      <th>Protein2</th>\n",
       "      <th>Protein3</th>\n",
       "      <th>Protein4</th>\n",
       "    </tr>\n",
       "  </thead>\n",
       "  <tbody>\n",
       "    <tr>\n",
       "      <th>Age</th>\n",
       "      <td>1.000000</td>\n",
       "      <td>-0.050638</td>\n",
       "      <td>-0.021542</td>\n",
       "      <td>-0.039686</td>\n",
       "      <td>0.094214</td>\n",
       "    </tr>\n",
       "    <tr>\n",
       "      <th>Protein1</th>\n",
       "      <td>-0.050638</td>\n",
       "      <td>1.000000</td>\n",
       "      <td>0.238141</td>\n",
       "      <td>-0.129482</td>\n",
       "      <td>0.280343</td>\n",
       "    </tr>\n",
       "    <tr>\n",
       "      <th>Protein2</th>\n",
       "      <td>-0.021542</td>\n",
       "      <td>0.238141</td>\n",
       "      <td>1.000000</td>\n",
       "      <td>-0.415825</td>\n",
       "      <td>0.088239</td>\n",
       "    </tr>\n",
       "    <tr>\n",
       "      <th>Protein3</th>\n",
       "      <td>-0.039686</td>\n",
       "      <td>-0.129482</td>\n",
       "      <td>-0.415825</td>\n",
       "      <td>1.000000</td>\n",
       "      <td>0.065316</td>\n",
       "    </tr>\n",
       "    <tr>\n",
       "      <th>Protein4</th>\n",
       "      <td>0.094214</td>\n",
       "      <td>0.280343</td>\n",
       "      <td>0.088239</td>\n",
       "      <td>0.065316</td>\n",
       "      <td>1.000000</td>\n",
       "    </tr>\n",
       "  </tbody>\n",
       "</table>\n",
       "</div>"
      ],
      "text/plain": [
       "               Age  Protein1  Protein2  Protein3  Protein4\n",
       "Age       1.000000 -0.050638 -0.021542 -0.039686  0.094214\n",
       "Protein1 -0.050638  1.000000  0.238141 -0.129482  0.280343\n",
       "Protein2 -0.021542  0.238141  1.000000 -0.415825  0.088239\n",
       "Protein3 -0.039686 -0.129482 -0.415825  1.000000  0.065316\n",
       "Protein4  0.094214  0.280343  0.088239  0.065316  1.000000"
      ]
     },
     "execution_count": 5,
     "metadata": {},
     "output_type": "execute_result"
    }
   ],
   "source": [
    "breast_cancer.corr()"
   ]
  },
  {
   "cell_type": "code",
   "execution_count": 6,
   "id": "b2c642fb",
   "metadata": {},
   "outputs": [
    {
     "data": {
      "text/plain": [
       "(341, 16)"
      ]
     },
     "execution_count": 6,
     "metadata": {},
     "output_type": "execute_result"
    }
   ],
   "source": [
    "breast_cancer.shape"
   ]
  },
  {
   "cell_type": "markdown",
   "id": "239c1b17",
   "metadata": {},
   "source": [
    "### Data Wrangling"
   ]
  },
  {
   "cell_type": "code",
   "execution_count": 7,
   "id": "e1d8cd90",
   "metadata": {},
   "outputs": [
    {
     "data": {
      "text/plain": [
       "Patient_ID             7\n",
       "Age                    7\n",
       "Gender                 7\n",
       "Protein1               7\n",
       "Protein2               7\n",
       "Protein3               7\n",
       "Protein4               7\n",
       "Tumour_Stage           7\n",
       "Histology              7\n",
       "ER status              7\n",
       "PR status              7\n",
       "HER2 status            7\n",
       "Surgery_type           7\n",
       "Date_of_Surgery        7\n",
       "Date_of_Last_Visit    24\n",
       "Patient_Status        20\n",
       "dtype: int64"
      ]
     },
     "execution_count": 7,
     "metadata": {},
     "output_type": "execute_result"
    }
   ],
   "source": [
    "breast_cancer.isnull().sum() #summing up the total number of null values present in the data"
   ]
  },
  {
   "cell_type": "markdown",
   "id": "0d0ec28e",
   "metadata": {},
   "source": [
    "##### fixing the missing values"
   ]
  },
  {
   "cell_type": "code",
   "execution_count": 8,
   "id": "6675cd33",
   "metadata": {},
   "outputs": [],
   "source": [
    "breast_cancer.dropna(inplace = True)"
   ]
  },
  {
   "cell_type": "code",
   "execution_count": 9,
   "id": "f64df229",
   "metadata": {},
   "outputs": [
    {
     "data": {
      "text/plain": [
       "0"
      ]
     },
     "execution_count": 9,
     "metadata": {},
     "output_type": "execute_result"
    }
   ],
   "source": [
    "breast_cancer.duplicated().sum() #checking for the nuumbers of duplicate values present in the data"
   ]
  },
  {
   "cell_type": "code",
   "execution_count": 10,
   "id": "f4a25919",
   "metadata": {},
   "outputs": [],
   "source": [
    "breast_cancer.drop_duplicates(inplace = True) #dropping duplicate values"
   ]
  },
  {
   "cell_type": "code",
   "execution_count": 11,
   "id": "4160f515",
   "metadata": {},
   "outputs": [
    {
     "data": {
      "text/plain": [
       "0"
      ]
     },
     "execution_count": 11,
     "metadata": {},
     "output_type": "execute_result"
    }
   ],
   "source": [
    "breast_cancer.duplicated().sum()"
   ]
  },
  {
   "cell_type": "markdown",
   "id": "1d21a2b2",
   "metadata": {},
   "source": [
    "Some of the data appears to be in the wrong format. Fixing dataset that appears to be in the wrong format"
   ]
  },
  {
   "cell_type": "code",
   "execution_count": 12,
   "id": "9df34c48",
   "metadata": {},
   "outputs": [],
   "source": [
    "breast_cancer['Age'] = breast_cancer['Age'].astype(int) #converting the date column  from float to integer"
   ]
  },
  {
   "cell_type": "code",
   "execution_count": 13,
   "id": "99fd75f1",
   "metadata": {},
   "outputs": [],
   "source": [
    "breast_cancer['Date_of_Surgery'] = pd.to_datetime(breast_cancer['Date_of_Surgery']) #convert float to date datatype"
   ]
  },
  {
   "cell_type": "code",
   "execution_count": 14,
   "id": "2838b0d7",
   "metadata": {},
   "outputs": [],
   "source": [
    "breast_cancer['Date_of_Last_Visit'] = pd.to_datetime(breast_cancer['Date_of_Last_Visit']) #convert float to date datatype"
   ]
  },
  {
   "cell_type": "code",
   "execution_count": 15,
   "id": "0ff1a8e0",
   "metadata": {},
   "outputs": [
    {
     "name": "stdout",
     "output_type": "stream",
     "text": [
      "<class 'pandas.core.frame.DataFrame'>\n",
      "Int64Index: 317 entries, 0 to 333\n",
      "Data columns (total 16 columns):\n",
      " #   Column              Non-Null Count  Dtype         \n",
      "---  ------              --------------  -----         \n",
      " 0   Patient_ID          317 non-null    object        \n",
      " 1   Age                 317 non-null    int32         \n",
      " 2   Gender              317 non-null    object        \n",
      " 3   Protein1            317 non-null    float64       \n",
      " 4   Protein2            317 non-null    float64       \n",
      " 5   Protein3            317 non-null    float64       \n",
      " 6   Protein4            317 non-null    float64       \n",
      " 7   Tumour_Stage        317 non-null    object        \n",
      " 8   Histology           317 non-null    object        \n",
      " 9   ER status           317 non-null    object        \n",
      " 10  PR status           317 non-null    object        \n",
      " 11  HER2 status         317 non-null    object        \n",
      " 12  Surgery_type        317 non-null    object        \n",
      " 13  Date_of_Surgery     317 non-null    datetime64[ns]\n",
      " 14  Date_of_Last_Visit  317 non-null    datetime64[ns]\n",
      " 15  Patient_Status      317 non-null    object        \n",
      "dtypes: datetime64[ns](2), float64(4), int32(1), object(9)\n",
      "memory usage: 40.9+ KB\n"
     ]
    }
   ],
   "source": [
    "breast_cancer.info() #check if the format has been changed"
   ]
  },
  {
   "cell_type": "code",
   "execution_count": 16,
   "id": "80047ad5",
   "metadata": {},
   "outputs": [],
   "source": [
    "from datetime import datetime"
   ]
  },
  {
   "cell_type": "code",
   "execution_count": 17,
   "id": "b9369521",
   "metadata": {},
   "outputs": [],
   "source": [
    "# Calculate the time difference in weeks and create a new column for the difference between weeks\n",
    "breast_cancer['Weeks between Surgery and Last Visit'] = (breast_cancer['Date_of_Last_Visit'] - breast_cancer['Date_of_Surgery']).apply(lambda x: x.days // 7)"
   ]
  },
  {
   "cell_type": "markdown",
   "id": "aceb6263",
   "metadata": {},
   "source": [
    "### Exploratory Data Analysis"
   ]
  },
  {
   "cell_type": "code",
   "execution_count": 18,
   "id": "ab93a23a",
   "metadata": {},
   "outputs": [
    {
     "data": {
      "text/plain": [
       "II     180\n",
       "III     77\n",
       "I       60\n",
       "Name: Tumour_Stage, dtype: int64"
      ]
     },
     "execution_count": 18,
     "metadata": {},
     "output_type": "execute_result"
    }
   ],
   "source": [
    "#value count for Tumour_Stage\n",
    "breast_cancer['Tumour_Stage'].value_counts()"
   ]
  },
  {
   "cell_type": "code",
   "execution_count": 19,
   "id": "56bfa969",
   "metadata": {},
   "outputs": [
    {
     "data": {
      "text/plain": [
       "Infiltrating Ductal Carcinoma     224\n",
       "Infiltrating Lobular Carcinoma     81\n",
       "Mucinous Carcinoma                 12\n",
       "Name: Histology, dtype: int64"
      ]
     },
     "execution_count": 19,
     "metadata": {},
     "output_type": "execute_result"
    }
   ],
   "source": [
    "#value count for Histology\n",
    "breast_cancer['Histology'].value_counts()"
   ]
  },
  {
   "cell_type": "code",
   "execution_count": 20,
   "id": "14ff5d6c",
   "metadata": {},
   "outputs": [
    {
     "data": {
      "text/plain": [
       "Other                          97\n",
       "Modified Radical Mastectomy    89\n",
       "Lumpectomy                     66\n",
       "Simple Mastectomy              65\n",
       "Name: Surgery_type, dtype: int64"
      ]
     },
     "execution_count": 20,
     "metadata": {},
     "output_type": "execute_result"
    }
   ],
   "source": [
    "#value count for Surgery_type\n",
    "breast_cancer['Surgery_type'].value_counts()"
   ]
  },
  {
   "cell_type": "code",
   "execution_count": 21,
   "id": "191e0e79",
   "metadata": {},
   "outputs": [
    {
     "data": {
      "text/html": [
       "<div>\n",
       "<style scoped>\n",
       "    .dataframe tbody tr th:only-of-type {\n",
       "        vertical-align: middle;\n",
       "    }\n",
       "\n",
       "    .dataframe tbody tr th {\n",
       "        vertical-align: top;\n",
       "    }\n",
       "\n",
       "    .dataframe thead th {\n",
       "        text-align: right;\n",
       "    }\n",
       "</style>\n",
       "<table border=\"1\" class=\"dataframe\">\n",
       "  <thead>\n",
       "    <tr style=\"text-align: right;\">\n",
       "      <th></th>\n",
       "      <th></th>\n",
       "      <th>Tumour_Stage</th>\n",
       "    </tr>\n",
       "    <tr>\n",
       "      <th>Tumour_Stage</th>\n",
       "      <th>Gender</th>\n",
       "      <th></th>\n",
       "    </tr>\n",
       "  </thead>\n",
       "  <tbody>\n",
       "    <tr>\n",
       "      <th>I</th>\n",
       "      <th>FEMALE</th>\n",
       "      <td>60</td>\n",
       "    </tr>\n",
       "    <tr>\n",
       "      <th rowspan=\"2\" valign=\"top\">II</th>\n",
       "      <th>FEMALE</th>\n",
       "      <td>177</td>\n",
       "    </tr>\n",
       "    <tr>\n",
       "      <th>MALE</th>\n",
       "      <td>3</td>\n",
       "    </tr>\n",
       "    <tr>\n",
       "      <th rowspan=\"2\" valign=\"top\">III</th>\n",
       "      <th>FEMALE</th>\n",
       "      <td>76</td>\n",
       "    </tr>\n",
       "    <tr>\n",
       "      <th>MALE</th>\n",
       "      <td>1</td>\n",
       "    </tr>\n",
       "  </tbody>\n",
       "</table>\n",
       "</div>"
      ],
      "text/plain": [
       "                     Tumour_Stage\n",
       "Tumour_Stage Gender              \n",
       "I            FEMALE            60\n",
       "II           FEMALE           177\n",
       "             MALE               3\n",
       "III          FEMALE            76\n",
       "             MALE               1"
      ]
     },
     "execution_count": 21,
     "metadata": {},
     "output_type": "execute_result"
    }
   ],
   "source": [
    "breast_cancer.groupby(['Tumour_Stage','Gender'])['Tumour_Stage'].count().to_frame() #grouping the Tumour stage by gender"
   ]
  },
  {
   "cell_type": "code",
   "execution_count": 22,
   "id": "b0a3047e",
   "metadata": {},
   "outputs": [
    {
     "data": {
      "text/html": [
       "<div>\n",
       "<style scoped>\n",
       "    .dataframe tbody tr th:only-of-type {\n",
       "        vertical-align: middle;\n",
       "    }\n",
       "\n",
       "    .dataframe tbody tr th {\n",
       "        vertical-align: top;\n",
       "    }\n",
       "\n",
       "    .dataframe thead th {\n",
       "        text-align: right;\n",
       "    }\n",
       "</style>\n",
       "<table border=\"1\" class=\"dataframe\">\n",
       "  <thead>\n",
       "    <tr style=\"text-align: right;\">\n",
       "      <th></th>\n",
       "      <th></th>\n",
       "      <th>Histology</th>\n",
       "    </tr>\n",
       "    <tr>\n",
       "      <th>Histology</th>\n",
       "      <th>Gender</th>\n",
       "      <th></th>\n",
       "    </tr>\n",
       "  </thead>\n",
       "  <tbody>\n",
       "    <tr>\n",
       "      <th rowspan=\"2\" valign=\"top\">Infiltrating Ductal Carcinoma</th>\n",
       "      <th>FEMALE</th>\n",
       "      <td>222</td>\n",
       "    </tr>\n",
       "    <tr>\n",
       "      <th>MALE</th>\n",
       "      <td>2</td>\n",
       "    </tr>\n",
       "    <tr>\n",
       "      <th rowspan=\"2\" valign=\"top\">Infiltrating Lobular Carcinoma</th>\n",
       "      <th>FEMALE</th>\n",
       "      <td>79</td>\n",
       "    </tr>\n",
       "    <tr>\n",
       "      <th>MALE</th>\n",
       "      <td>2</td>\n",
       "    </tr>\n",
       "    <tr>\n",
       "      <th>Mucinous Carcinoma</th>\n",
       "      <th>FEMALE</th>\n",
       "      <td>12</td>\n",
       "    </tr>\n",
       "  </tbody>\n",
       "</table>\n",
       "</div>"
      ],
      "text/plain": [
       "                                       Histology\n",
       "Histology                      Gender           \n",
       "Infiltrating Ductal Carcinoma  FEMALE        222\n",
       "                               MALE            2\n",
       "Infiltrating Lobular Carcinoma FEMALE         79\n",
       "                               MALE            2\n",
       "Mucinous Carcinoma             FEMALE         12"
      ]
     },
     "execution_count": 22,
     "metadata": {},
     "output_type": "execute_result"
    }
   ],
   "source": [
    "breast_cancer.groupby(['Histology','Gender'])['Histology'].count().to_frame() #grouping the Histology by gender"
   ]
  },
  {
   "cell_type": "code",
   "execution_count": 23,
   "id": "ff303dbf",
   "metadata": {},
   "outputs": [
    {
     "data": {
      "text/html": [
       "<div>\n",
       "<style scoped>\n",
       "    .dataframe tbody tr th:only-of-type {\n",
       "        vertical-align: middle;\n",
       "    }\n",
       "\n",
       "    .dataframe tbody tr th {\n",
       "        vertical-align: top;\n",
       "    }\n",
       "\n",
       "    .dataframe thead th {\n",
       "        text-align: right;\n",
       "    }\n",
       "</style>\n",
       "<table border=\"1\" class=\"dataframe\">\n",
       "  <thead>\n",
       "    <tr style=\"text-align: right;\">\n",
       "      <th></th>\n",
       "      <th></th>\n",
       "      <th>Surgery_type</th>\n",
       "    </tr>\n",
       "    <tr>\n",
       "      <th>Surgery_type</th>\n",
       "      <th>Gender</th>\n",
       "      <th></th>\n",
       "    </tr>\n",
       "  </thead>\n",
       "  <tbody>\n",
       "    <tr>\n",
       "      <th>Lumpectomy</th>\n",
       "      <th>FEMALE</th>\n",
       "      <td>66</td>\n",
       "    </tr>\n",
       "    <tr>\n",
       "      <th rowspan=\"2\" valign=\"top\">Modified Radical Mastectomy</th>\n",
       "      <th>FEMALE</th>\n",
       "      <td>87</td>\n",
       "    </tr>\n",
       "    <tr>\n",
       "      <th>MALE</th>\n",
       "      <td>2</td>\n",
       "    </tr>\n",
       "    <tr>\n",
       "      <th rowspan=\"2\" valign=\"top\">Other</th>\n",
       "      <th>FEMALE</th>\n",
       "      <td>96</td>\n",
       "    </tr>\n",
       "    <tr>\n",
       "      <th>MALE</th>\n",
       "      <td>1</td>\n",
       "    </tr>\n",
       "    <tr>\n",
       "      <th rowspan=\"2\" valign=\"top\">Simple Mastectomy</th>\n",
       "      <th>FEMALE</th>\n",
       "      <td>64</td>\n",
       "    </tr>\n",
       "    <tr>\n",
       "      <th>MALE</th>\n",
       "      <td>1</td>\n",
       "    </tr>\n",
       "  </tbody>\n",
       "</table>\n",
       "</div>"
      ],
      "text/plain": [
       "                                    Surgery_type\n",
       "Surgery_type                Gender              \n",
       "Lumpectomy                  FEMALE            66\n",
       "Modified Radical Mastectomy FEMALE            87\n",
       "                            MALE               2\n",
       "Other                       FEMALE            96\n",
       "                            MALE               1\n",
       "Simple Mastectomy           FEMALE            64\n",
       "                            MALE               1"
      ]
     },
     "execution_count": 23,
     "metadata": {},
     "output_type": "execute_result"
    }
   ],
   "source": [
    "breast_cancer.groupby(['Surgery_type','Gender'])['Surgery_type'].count().to_frame() #grouping the Surgery_type by gender"
   ]
  },
  {
   "cell_type": "code",
   "execution_count": 24,
   "id": "3d7f7376",
   "metadata": {},
   "outputs": [
    {
     "name": "stdout",
     "output_type": "stream",
     "text": [
      "                                          Tumour_Stage\n",
      "Surgery_type                Tumour_Stage              \n",
      "Lumpectomy                  I                       22\n",
      "                            II                      36\n",
      "                            III                      8\n",
      "Modified Radical Mastectomy I                        7\n",
      "                            II                      45\n",
      "                            III                     37\n",
      "Other                       I                       18\n",
      "                            II                      56\n",
      "                            III                     23\n",
      "Simple Mastectomy           I                       13\n",
      "                            II                      43\n",
      "                            III                      9\n"
     ]
    }
   ],
   "source": [
    "result = breast_cancer.groupby(['Surgery_type', 'Tumour_Stage'])['Tumour_Stage'].count().to_frame()\n",
    "print(result)"
   ]
  },
  {
   "cell_type": "markdown",
   "id": "8f453066",
   "metadata": {},
   "source": [
    "### Visualization"
   ]
  },
  {
   "cell_type": "code",
   "execution_count": 25,
   "id": "f324fb2f",
   "metadata": {},
   "outputs": [
    {
     "data": {
      "image/png": "[encoded data removed]",
      "text/plain": [
       "<Figure size 432x288 with 1 Axes>"
      ]
     },
     "metadata": {
      "needs_background": "light"
     },
     "output_type": "display_data"
    }
   ],
   "source": [
    "# Create the bar plot for the groupby for surgery type and tumour\n",
    "result.plot(kind='bar')\n",
    "\n",
    "# Set labels and title\n",
    "plt.xlabel('Surgery Type and Tumor Stage', c = 'darkred')\n",
    "plt.ylabel('Count', c = 'darkred')\n",
    "plt.title('Breast Cancer Cases by Surgery Type and Tumor Stage', c = 'blue')\n",
    "\n",
    "# Display the plot\n",
    "plt.show()"
   ]
  },
  {
   "cell_type": "code",
   "execution_count": 26,
   "id": "67e07bfc",
   "metadata": {},
   "outputs": [
    {
     "data": {
      "text/plain": [
       "Text(0, 0.5, 'Count per Age Group')"
      ]
     },
     "execution_count": 26,
     "metadata": {},
     "output_type": "execute_result"
    },
    {
     "data": {
      "image/png": "[encoded data removed]",
      "text/plain": [
       "<Figure size 360x216 with 1 Axes>"
      ]
     },
     "metadata": {
      "needs_background": "light"
     },
     "output_type": "display_data"
    }
   ],
   "source": [
    "plt.figure(figsize=(5, 3))\n",
    "plt.hist(x='Age',data= breast_cancer, color = 'red', edgecolor='black')\n",
    "plt.title('Histogram Showing Age Distribution of Passengers')\n",
    "plt.xlabel('Age Groups')\n",
    "plt.ylabel('Count per Age Group')"
   ]
  },
  {
   "cell_type": "code",
   "execution_count": 27,
   "id": "2c51467d",
   "metadata": {
    "scrolled": true
   },
   "outputs": [
    {
     "data": {
      "image/png": "[encoded data removed]",
      "text/plain": [
       "<Figure size 288x432 with 1 Axes>"
      ]
     },
     "metadata": {},
     "output_type": "display_data"
    }
   ],
   "source": [
    "# Plot the Histology distribution in a pie chart\n",
    "Histology_counts = breast_cancer['Histology'].value_counts()\n",
    "labels = Histology_counts.index\n",
    "sizes = Histology_counts.values\n",
    "\n",
    "plt.figure(figsize=(4, 6))\n",
    "plt.pie(sizes, labels=labels,autopct='%1.1f%%', startangle=90)\n",
    "plt.title('Histology Distribution')\n",
    "plt.legend(title = 'Histology', loc = 'best')\n",
    "plt.axis('equal')\n",
    "plt.show()"
   ]
  },
  {
   "cell_type": "code",
   "execution_count": 28,
   "id": "f98c1c53",
   "metadata": {},
   "outputs": [
    {
     "data": {
      "image/png": "[encoded data removed]",
      "text/plain": [
       "<Figure size 288x432 with 1 Axes>"
      ]
     },
     "metadata": {},
     "output_type": "display_data"
    }
   ],
   "source": [
    "# Plot the Surgery type distribution in a pie chart\n",
    "Surgery_counts = breast_cancer['Surgery_type'].value_counts()\n",
    "labels = Surgery_counts.index\n",
    "sizes = Surgery_counts.values\n",
    "\n",
    "plt.figure(figsize=(4, 6))\n",
    "plt.pie(sizes, labels=labels, autopct='%1.1f%%',startangle=90)\n",
    "plt.title('Surgery Type Distribution', c = 'blue', font = 'Times New Roman')\n",
    "plt.legend(title = 'Surgery Type', loc = 'best')\n",
    "plt.axis('equal')\n",
    "plt.show()"
   ]
  },
  {
   "cell_type": "code",
   "execution_count": 29,
   "id": "3783824c",
   "metadata": {},
   "outputs": [
    {
     "data": {
      "image/png": "[encoded data removed]",
      "text/plain": [
       "<Figure size 432x288 with 1 Axes>"
      ]
     },
     "metadata": {
      "needs_background": "light"
     },
     "output_type": "display_data"
    }
   ],
   "source": [
    "#Calculate the counts for each combination\n",
    "counts = breast_cancer.groupby([\"Gender\", \"Patient_Status\"]).size().unstack()\n",
    "\n",
    "# Plot the stacked bar plot\n",
    "counts.plot(kind=\"bar\", stacked=True)\n",
    "\n",
    "# Set labels and title\n",
    "plt.xlabel(\"Gender\", c ='blue')\n",
    "plt.ylabel(\"Count of Patient Status\", c = 'blue')\n",
    "plt.title(\"Gender and Patient_Status\", c = 'red')\n",
    "\n",
    "# Show the plot\n",
    "plt.show()"
   ]
  },
  {
   "cell_type": "code",
   "execution_count": 30,
   "id": "a877c81e",
   "metadata": {},
   "outputs": [
    {
     "data": {
      "image/png": "[encoded data removed]",
      "text/plain": [
       "<Figure size 432x288 with 1 Axes>"
      ]
     },
     "metadata": {
      "needs_background": "light"
     },
     "output_type": "display_data"
    }
   ],
   "source": [
    "#Calculate the counts for each combination\n",
    "counts = breast_cancer.groupby([\"Surgery_type\", \"Patient_Status\"]).size().unstack()\n",
    "\n",
    "# Plot the stacked bar plot\n",
    "counts.plot(kind=\"bar\", stacked=True)\n",
    "\n",
    "# Set labels and title\n",
    "plt.xlabel(\"Surgery_type\")\n",
    "plt.ylabel(\"Count of Patient Status\")\n",
    "plt.title(\"Surgery_type and Count of Patient Status\")\n",
    "\n",
    "# Show the plot\n",
    "plt.show()"
   ]
  },
  {
   "cell_type": "code",
   "execution_count": 31,
   "id": "75ab4984",
   "metadata": {},
   "outputs": [
    {
     "data": {
      "image/png": "[encoded data removed]",
      "text/plain": [
       "<Figure size 576x432 with 1 Axes>"
      ]
     },
     "metadata": {
      "needs_background": "light"
     },
     "output_type": "display_data"
    }
   ],
   "source": [
    "age = breast_cancer['Age']\n",
    "patient_status = breast_cancer['Patient_Status']\n",
    "\n",
    "# Filter the data for patients that are alive\n",
    "age = age[patient_status == 'Alive']\n",
    "\n",
    "# Create the histogram\n",
    "plt.figure(figsize=(8, 6))\n",
    "sns.histplot(data= breast_cancer, x=age, hue=patient_status, kde=True)\n",
    "plt.title('Age Distribution by Patient Status')\n",
    "plt.xlabel('Age')\n",
    "plt.ylabel('Count')\n",
    "plt.show()"
   ]
  },
  {
   "cell_type": "code",
   "execution_count": 32,
   "id": "f2cbbcc4",
   "metadata": {},
   "outputs": [
    {
     "name": "stdout",
     "output_type": "stream",
     "text": [
      "          Protein1  Protein2  Protein3  Protein4       Age\n",
      "Protein1  1.000000  0.223093 -0.103046  0.259171 -0.044541\n",
      "Protein2  0.223093  1.000000 -0.407670  0.084939 -0.011387\n",
      "Protein3 -0.103046 -0.407670  1.000000  0.076759 -0.047362\n",
      "Protein4  0.259171  0.084939  0.076759  1.000000  0.095417\n",
      "Age      -0.044541 -0.011387 -0.047362  0.095417  1.000000\n"
     ]
    }
   ],
   "source": [
    "columns_of_interest = ['Protein1', 'Protein2','Protein3', 'Protein4','Age']\n",
    "\n",
    "# Subset the DataFrame with the selected columns\n",
    "subset_df = breast_cancer[columns_of_interest]\n",
    "\n",
    "# Calculate the correlation matrix\n",
    "correlation_matrix = subset_df.corr()\n",
    "\n",
    "# Print the correlation matrix\n",
    "print(correlation_matrix)"
   ]
  },
  {
   "cell_type": "code",
   "execution_count": 33,
   "id": "65b10baa",
   "metadata": {},
   "outputs": [
    {
     "data": {
      "image/png": "[encoded data removed]",
      "text/plain": [
       "<Figure size 864x720 with 2 Axes>"
      ]
     },
     "metadata": {
      "needs_background": "light"
     },
     "output_type": "display_data"
    }
   ],
   "source": [
    "# Plot the correlation matrix using a heatmap\n",
    "plt.figure(figsize=(12, 10))\n",
    "sns.heatmap(correlation_matrix, annot=True, cmap='coolwarm')\n",
    "plt.title('Correlation Heatmap')\n",
    "plt.show()"
   ]
  },
  {
   "cell_type": "markdown",
   "id": "6d2c935d",
   "metadata": {},
   "source": [
    "### Data preparation for modelling"
   ]
  },
  {
   "cell_type": "code",
   "execution_count": 34,
   "id": "ad3e0cd7",
   "metadata": {},
   "outputs": [],
   "source": [
    "breast_cancer[\"Gender\"] = breast_cancer[\"Gender\"].map({\"FEMALE\": 1, \n",
    "                                           \"MALE\": 0})"
   ]
  },
  {
   "cell_type": "code",
   "execution_count": 35,
   "id": "31b71c92",
   "metadata": {},
   "outputs": [],
   "source": [
    "breast_cancer[\"Tumour_Stage\"] = breast_cancer[\"Tumour_Stage\"].map({'III': 3, \n",
    "                                           \"II\": 2,\n",
    "                                            'I': 1})"
   ]
  },
  {
   "cell_type": "code",
   "execution_count": 36,
   "id": "f537388f",
   "metadata": {},
   "outputs": [],
   "source": [
    "breast_cancer[\"Histology\"] = breast_cancer[\"Histology\"].map({'Infiltrating Ductal Carcinoma': 3, \n",
    "                                           \"Infiltrating Lobular Carcinoma\": 2,\n",
    "                                            'Mucinous Carcinoma': 1})"
   ]
  },
  {
   "cell_type": "code",
   "execution_count": 37,
   "id": "4b1167a0",
   "metadata": {},
   "outputs": [],
   "source": [
    "breast_cancer[\"ER status\"] = breast_cancer[\"ER status\"].map({\"Positive\": 1, \n",
    "                                           \"Negative\": 0})"
   ]
  },
  {
   "cell_type": "code",
   "execution_count": 38,
   "id": "81977f61",
   "metadata": {},
   "outputs": [],
   "source": [
    "breast_cancer[\"PR status\"] = breast_cancer[\"PR status\"].map({\"Positive\": 1, \n",
    "                                           \"Negative\": 0})"
   ]
  },
  {
   "cell_type": "code",
   "execution_count": 39,
   "id": "788dd4db",
   "metadata": {},
   "outputs": [],
   "source": [
    "breast_cancer[\"HER2 status\"] = breast_cancer[\"HER2 status\"].map({\"Positive\": 1, \n",
    "                                           \"Negative\": 0})"
   ]
  },
  {
   "cell_type": "code",
   "execution_count": 40,
   "id": "5503f490",
   "metadata": {},
   "outputs": [],
   "source": [
    "breast_cancer['Surgery_type'] = breast_cancer['Surgery_type'].map({'Modified Radical Mastectomy':1,\n",
    "                                                                  'Lumpectomy': 2,\n",
    "                                                                  'Simple Mastectomy': 3,\n",
    "                                                                  'Other': 4})"
   ]
  },
  {
   "cell_type": "code",
   "execution_count": 41,
   "id": "59a52357",
   "metadata": {},
   "outputs": [],
   "source": [
    "breast_cancer[\"Patient_Status\"] = breast_cancer[\"Patient_Status\"].map({\"Alive\": 1, \n",
    "                                           \"Dead\": 0})"
   ]
  },
  {
   "cell_type": "code",
   "execution_count": 42,
   "id": "dd6b69df",
   "metadata": {},
   "outputs": [],
   "source": [
    "columns = ['Patient_ID', 'Protein1', 'Protein3', 'Protein4','Protein2', 'Date_of_Surgery','Date_of_Last_Visit', 'Weeks between Surgery and Last Visit']\n",
    "breast_cancer = breast_cancer.drop(columns, axis=1)"
   ]
  },
  {
   "cell_type": "code",
   "execution_count": 43,
   "id": "dab0b166",
   "metadata": {},
   "outputs": [
    {
     "data": {
      "text/html": [
       "<div>\n",
       "<style scoped>\n",
       "    .dataframe tbody tr th:only-of-type {\n",
       "        vertical-align: middle;\n",
       "    }\n",
       "\n",
       "    .dataframe tbody tr th {\n",
       "        vertical-align: top;\n",
       "    }\n",
       "\n",
       "    .dataframe thead th {\n",
       "        text-align: right;\n",
       "    }\n",
       "</style>\n",
       "<table border=\"1\" class=\"dataframe\">\n",
       "  <thead>\n",
       "    <tr style=\"text-align: right;\">\n",
       "      <th></th>\n",
       "      <th>Age</th>\n",
       "      <th>Gender</th>\n",
       "      <th>Tumour_Stage</th>\n",
       "      <th>Histology</th>\n",
       "      <th>ER status</th>\n",
       "      <th>PR status</th>\n",
       "      <th>HER2 status</th>\n",
       "      <th>Surgery_type</th>\n",
       "      <th>Patient_Status</th>\n",
       "    </tr>\n",
       "  </thead>\n",
       "  <tbody>\n",
       "    <tr>\n",
       "      <th>0</th>\n",
       "      <td>36</td>\n",
       "      <td>1</td>\n",
       "      <td>3</td>\n",
       "      <td>3</td>\n",
       "      <td>1</td>\n",
       "      <td>1</td>\n",
       "      <td>0</td>\n",
       "      <td>1</td>\n",
       "      <td>1</td>\n",
       "    </tr>\n",
       "    <tr>\n",
       "      <th>1</th>\n",
       "      <td>43</td>\n",
       "      <td>1</td>\n",
       "      <td>2</td>\n",
       "      <td>1</td>\n",
       "      <td>1</td>\n",
       "      <td>1</td>\n",
       "      <td>0</td>\n",
       "      <td>2</td>\n",
       "      <td>0</td>\n",
       "    </tr>\n",
       "    <tr>\n",
       "      <th>2</th>\n",
       "      <td>69</td>\n",
       "      <td>1</td>\n",
       "      <td>3</td>\n",
       "      <td>3</td>\n",
       "      <td>1</td>\n",
       "      <td>1</td>\n",
       "      <td>0</td>\n",
       "      <td>4</td>\n",
       "      <td>1</td>\n",
       "    </tr>\n",
       "    <tr>\n",
       "      <th>3</th>\n",
       "      <td>56</td>\n",
       "      <td>1</td>\n",
       "      <td>2</td>\n",
       "      <td>3</td>\n",
       "      <td>1</td>\n",
       "      <td>1</td>\n",
       "      <td>0</td>\n",
       "      <td>1</td>\n",
       "      <td>1</td>\n",
       "    </tr>\n",
       "    <tr>\n",
       "      <th>4</th>\n",
       "      <td>56</td>\n",
       "      <td>1</td>\n",
       "      <td>2</td>\n",
       "      <td>3</td>\n",
       "      <td>1</td>\n",
       "      <td>1</td>\n",
       "      <td>0</td>\n",
       "      <td>4</td>\n",
       "      <td>0</td>\n",
       "    </tr>\n",
       "  </tbody>\n",
       "</table>\n",
       "</div>"
      ],
      "text/plain": [
       "   Age  Gender  Tumour_Stage  Histology  ER status  PR status  HER2 status  \\\n",
       "0   36       1             3          3          1          1            0   \n",
       "1   43       1             2          1          1          1            0   \n",
       "2   69       1             3          3          1          1            0   \n",
       "3   56       1             2          3          1          1            0   \n",
       "4   56       1             2          3          1          1            0   \n",
       "\n",
       "   Surgery_type  Patient_Status  \n",
       "0             1               1  \n",
       "1             2               0  \n",
       "2             4               1  \n",
       "3             1               1  \n",
       "4             4               0  "
      ]
     },
     "execution_count": 43,
     "metadata": {},
     "output_type": "execute_result"
    }
   ],
   "source": [
    "breast_cancer.head()"
   ]
  },
  {
   "cell_type": "markdown",
   "id": "3c4b2b6a",
   "metadata": {},
   "source": [
    "## Data Preparation to build model"
   ]
  },
  {
   "cell_type": "code",
   "execution_count": 44,
   "id": "ec301875",
   "metadata": {},
   "outputs": [],
   "source": [
    "from sklearn.model_selection import train_test_split\n",
    "from sklearn.linear_model import LogisticRegression\n",
    "from sklearn.metrics import accuracy_score\n",
    "from sklearn.tree import DecisionTreeClassifier\n",
    "from sklearn.svm import SVC\n",
    "from sklearn.model_selection import GridSearchCV\n",
    "from sklearn.ensemble import RandomForestClassifier\n",
    "from sklearn.metrics import recall_score\n",
    "from sklearn.metrics import precision_score, recall_score, f1_score"
   ]
  },
  {
   "cell_type": "code",
   "execution_count": 45,
   "id": "03e71f57",
   "metadata": {},
   "outputs": [],
   "source": [
    "X = breast_cancer.drop(columns=['Patient_Status'])\n",
    "y =breast_cancer['Patient_Status']"
   ]
  },
  {
   "cell_type": "code",
   "execution_count": 47,
   "id": "147e442b",
   "metadata": {},
   "outputs": [
    {
     "name": "stdout",
     "output_type": "stream",
     "text": [
      "X_train shape: (253, 8)\n",
      "y_train shape: (253,)\n",
      "X_test shape: (64, 8)\n",
      "y_test shape: (64,)\n"
     ]
    }
   ],
   "source": [
    "# Split http://localhost:8888/notebooks/Documents/Abocoder/Untitled3.ipynb#Linear-Regressionthe data into training and testing sets\n",
    "X_train, X_test, y_train, y_test = train_test_split(X, y, test_size=0.2, random_state=30)\n",
    "\n",
    "# Verify the shapes of the training and testing sets\n",
    "print(\"X_train shape:\", X_train.shape)\n",
    "print(\"y_train shape:\", y_train.shape)\n",
    "print(\"X_test shape:\", X_test.shape)\n",
    "print(\"y_test shape:\", y_test.shape)"
   ]
  },
  {
   "cell_type": "markdown",
   "id": "60e9c080",
   "metadata": {},
   "source": [
    "### Model Building"
   ]
  },
  {
   "cell_type": "markdown",
   "id": "66caed43",
   "metadata": {},
   "source": [
    "#### Linear Regression"
   ]
  },
  {
   "cell_type": "code",
   "execution_count": 48,
   "id": "a50f1bb1",
   "metadata": {},
   "outputs": [
    {
     "name": "stdout",
     "output_type": "stream",
     "text": [
      "Score of train: 0.8023715415019763\n",
      "Score of test 0.8125\n"
     ]
    }
   ],
   "source": [
    "#Instantiate\n",
    "logreg = LogisticRegression()\n",
    "\n",
    "#fit to X_train and y_train\n",
    "logreg.fit(X_train,y_train)\n",
    "\n",
    "# Make predictions on the testing data\n",
    "y_pred = logreg.predict(X_test)\n",
    "\n",
    "#check score of training\n",
    "print('Score of train:', logreg.score(X_train,y_train))\n",
    "\n",
    "#check score of test set\n",
    "print('Score of test', logreg.score(X_test,y_test))"
   ]
  },
  {
   "cell_type": "code",
   "execution_count": 49,
   "id": "d9bfcec5",
   "metadata": {},
   "outputs": [
    {
     "name": "stdout",
     "output_type": "stream",
     "text": [
      "Score of train: 0.8023715415019763\n",
      "Score of test 0.8125\n"
     ]
    }
   ],
   "source": [
    "svc= SVC()\n",
    "\n",
    "svc.fit(X_train,y_train)\n",
    "\n",
    "print('Score of train:',svc.score(X_train,y_train))\n",
    "print('Score of test',svc.score(X_test,y_test))"
   ]
  },
  {
   "cell_type": "markdown",
   "id": "98319bfb",
   "metadata": {},
   "source": [
    "### Cross-validation:\n",
    "Cross-validation is a technique used during the training phase of a machine learning model to estimate its performance and tune hyperparameters."
   ]
  },
  {
   "cell_type": "code",
   "execution_count": 50,
   "id": "b0325329",
   "metadata": {},
   "outputs": [
    {
     "name": "stdout",
     "output_type": "stream",
     "text": [
      "Best Parameters: {'max_depth': None, 'min_samples_leaf': 20, 'min_samples_split': 2, 'n_estimators': 100}\n",
      "Accuracy: 0.8125\n"
     ]
    }
   ],
   "source": [
    "# Create an instance of the model (e.g., Random Forest Classifier)\n",
    "model = RandomForestClassifier()\n",
    "\n",
    "# Defining the hyperparameters to tune and their possible values\n",
    "param_grid = {\n",
    "    'n_estimators': [100, 200, 300], # It defines the total number of individual decision trees that will be trained and combined to make predictions.\n",
    "    'max_depth': [None, 5, 10], #It limits the number of levels a decision tree can grow.\n",
    "    'min_samples_split': [2, 5, 10], #t controls how the decision tree decides to split the nodes further based on the number of samples at a particular node\n",
    "    \"min_samples_leaf\": [1, 20, 2] #It sets a threshold for the minimum number of samples needed to be present in a leaf node to consider it a valid split.\n",
    "}\n",
    "\n",
    "# Create an instance of GridSearchCV with the model and parameter grid\n",
    "grid_search = GridSearchCV(estimator=model, param_grid=param_grid, cv=5, scoring='accuracy')\n",
    "\n",
    "# Fit the grid search to the training data\n",
    "grid_search.fit(X_train, y_train)\n",
    "\n",
    "# Get the best model and its hyperparameters\n",
    "best_model = grid_search.best_estimator_\n",
    "best_params = grid_search.best_params_\n",
    "\n",
    "# Evaluate the best model on the testing data\n",
    "y_pred = best_model.predict(X_test)\n",
    "accuracy = accuracy_score(y_test, y_pred)\n",
    "\n",
    "print(\"Best Parameters:\", best_params)\n",
    "print(\"Accuracy:\", accuracy)"
   ]
  },
  {
   "cell_type": "markdown",
   "id": "0a51a8ea",
   "metadata": {},
   "source": [
    "### Evaluating model performance"
   ]
  },
  {
   "cell_type": "code",
   "execution_count": 51,
   "id": "ccc9a065",
   "metadata": {},
   "outputs": [
    {
     "name": "stdout",
     "output_type": "stream",
     "text": [
      "Sensitivity: 1.0\n"
     ]
    }
   ],
   "source": [
    "# Calculate the sensitivity\n",
    "sensitivity = recall_score(y_test, y_pred, pos_label= 1)\n",
    "print(\"Sensitivity:\", sensitivity)"
   ]
  },
  {
   "cell_type": "code",
   "execution_count": 52,
   "id": "41fb4f41",
   "metadata": {},
   "outputs": [
    {
     "name": "stdout",
     "output_type": "stream",
     "text": [
      "Sensitivity: 0.0\n"
     ]
    }
   ],
   "source": [
    "# Calculate the sensitivity\n",
    "sensitivity = recall_score(y_test, y_pred, pos_label=0)\n",
    "print(\"Sensitivity:\", sensitivity)"
   ]
  },
  {
   "cell_type": "code",
   "execution_count": 53,
   "id": "cf34f633",
   "metadata": {},
   "outputs": [
    {
     "name": "stdout",
     "output_type": "stream",
     "text": [
      "Precision: 0.8125\n",
      "Recall: 1.0\n",
      "F1 score: 0.896551724137931\n"
     ]
    }
   ],
   "source": [
    "# Calculate precision\n",
    "precision = precision_score(y_test, y_pred, pos_label = 1)\n",
    "print(\"Precision:\", precision)\n",
    "\n",
    "# Calculate recall\n",
    "recall = recall_score(y_test, y_pred, pos_label = 1)\n",
    "print(\"Recall:\", recall)\n",
    "\n",
    "# Calculate F1 score\n",
    "f1 = f1_score(y_test, y_pred, pos_label = 1)\n",
    "print(\"F1 score:\", f1)"
   ]
  },
  {
   "cell_type": "markdown",
   "id": "5bcf681b",
   "metadata": {},
   "source": [
    "The precision score of 0.8125 indicates that the model's positive predictions are reasonably reliable. The recall score of 1.0 suggests that the model correctly identifies all positive instances. The F1 score of 0.896551724137931 reflects the overall performance of the model, considering both precision and recall."
   ]
  },
  {
   "cell_type": "code",
   "execution_count": 54,
   "id": "3b5f6c2a",
   "metadata": {},
   "outputs": [
    {
     "data": {
      "image/png": "[encoded data removed]",
      "text/plain": [
       "<Figure size 720x432 with 1 Axes>"
      ]
     },
     "metadata": {
      "needs_background": "light"
     },
     "output_type": "display_data"
    }
   ],
   "source": [
    "# Creating an instance of the RandomForestClassifier\n",
    "model = RandomForestClassifier(max_depth=None, min_samples_leaf=20, min_samples_split=2, n_estimators=100)\n",
    "\n",
    "# Training the model on the training data\n",
    "model.fit(X_train, y_train)\n",
    "\n",
    "# Get feature importances\n",
    "importances = model.feature_importances_\n",
    "\n",
    "# feature names\n",
    "feature_names = X_train.columns  \n",
    "\n",
    "# Sort feature importances in descending order\n",
    "sorted_indices = importances.argsort()[::-1]\n",
    "sorted_importances = importances[sorted_indices]\n",
    "sorted_feature_names = feature_names[sorted_indices]\n",
    "\n",
    "\n",
    "# Plot feature importances\n",
    "plt.figure(figsize=(10, 6))\n",
    "plt.bar(range(len(sorted_importances)), sorted_importances, tick_label=sorted_feature_names)\n",
    "plt.xticks(rotation=90)\n",
    "plt.xlabel('Feature', c = 'blue')\n",
    "plt.ylabel('Importance', c = 'blue')\n",
    "plt.title('Feature Importance', c = 'darkred')\n",
    "plt.show()"
   ]
  },
  {
   "cell_type": "markdown",
   "id": "ef622bab",
   "metadata": {},
   "source": [
    "#### Testing Model with new dataset"
   ]
  },
  {
   "cell_type": "code",
   "execution_count": 55,
   "id": "ea1af754",
   "metadata": {},
   "outputs": [
    {
     "name": "stdout",
     "output_type": "stream",
     "text": [
      "Prediction: 1\n",
      "Accuracy: 0.8125\n"
     ]
    }
   ],
   "source": [
    "input_data = [[52, 1, 2, 3, 1, 1, 0, 1]]  \n",
    "# Making predictions\n",
    "predictions = model.predict(input_data)\n",
    "\n",
    "# Printing the prediction\n",
    "print(\"Prediction:\", predictions[0])\n",
    "\n",
    "# Calculating accuracy\n",
    "accuracy = accuracy_score(y_test, y_pred)\n",
    "print(\"Accuracy:\", accuracy)"
   ]
  },
  {
   "cell_type": "code",
   "execution_count": 56,
   "id": "a2b89610",
   "metadata": {},
   "outputs": [
    {
     "name": "stdout",
     "output_type": "stream",
     "text": [
      "Prediction: 1\n",
      "Accuracy: 0.8125\n"
     ]
    }
   ],
   "source": [
    "input_data = [[35, 1, 3, 1, 1, 1, 0, 2]]  \n",
    "\n",
    "# Making predictions\n",
    "predictions = model.predict(input_data)\n",
    "\n",
    "# Printing the prediction\n",
    "print(\"Prediction:\", predictions[0])\n",
    "\n",
    "# Calculating accuracy\n",
    "accuracy = accuracy_score(y_test, y_pred)\n",
    "print(\"Accuracy:\", accuracy)"
   ]
  },
  {
   "cell_type": "code",
   "execution_count": 57,
   "id": "e52bbda9",
   "metadata": {},
   "outputs": [
    {
     "name": "stdout",
     "output_type": "stream",
     "text": [
      "Prediction: 1\n",
      "Accuracy: 0.8125\n"
     ]
    }
   ],
   "source": [
    "input_data = [[55, 0, 2, 3, 1, 1, 0, 2]]  \n",
    "\n",
    "# Making predictions\n",
    "predictions = model.predict(input_data)\n",
    "\n",
    "# Printing the prediction\n",
    "print(\"Prediction:\", predictions[0])\n",
    "\n",
    "# Calculating accuracy\n",
    "accuracy = accuracy_score(y_test, y_pred)\n",
    "print(\"Accuracy:\", accuracy)"
   ]
  }
 ],
 "metadata": {
  "kernelspec": {
   "display_name": "Python 3 (ipykernel)",
   "language": "python",
   "name": "python3"
  },
  "language_info": {
   "codemirror_mode": {
    "name": "ipython",
    "version": 3
   },
   "file_extension": ".py",
   "mimetype": "text/x-python",
   "name": "python",
   "nbconvert_exporter": "python",
   "pygments_lexer": "ipython3",
   "version": "3.10.4"
  }
 },
 "nbformat": 4,
 "nbformat_minor": 5
}
